{
 "cells": [
  {
   "cell_type": "markdown",
   "metadata": {},
   "source": [
    "##LEDs aansturen met de Raspberry Pi GPIO pins\n",
    "\n",
    "Met deze notebook zullen we de General Purpose Input/Output (GPIO) pinnen op de Raspberry Pi gebruiken om een LED lampje te laten branden.\n",
    "\n",
    "    GPIO pinnen zijn de 40 (genummerde) pinnen tegenover de HDMI aansluiting waarop verbindingsdraaden aangesloten kunnen worden.\n",
    "\n",
    "Daarvoor moeten we echter een manier afspreken met de Raspberry Pi om de verschillende pinnen van mekaar te onderscheiden en dat doen we als volgt met de functie setmode:"
   ]
  },
  {
   "cell_type": "code",
   "execution_count": null,
   "metadata": {
    "collapsed": true
   },
   "outputs": [],
   "source": [
    "#GPIO bibliotheek inladen\n",
    "import RPi.GPIO as GPIO\n",
    "#BCM (Broadcom) modus instellen voor het nummeren van de pins\n",
    "GPIO.setmode(GPIO.BCM)"
   ]
  },
  {
   "cell_type": "markdown",
   "metadata": {},
   "source": [
    "BCM is de nummering die gegraveerd is op de Raspberry Pi case die we gebruiken en die ook op het afgedrukte Pinout schema terug te vinden is.\n",
    "\n",
    "Opgelet: een LED is een diode en het is dus belangrijk om de stroom er in de juiste richting door te sturen. Het verschil tussen de korte en lange aansluiting van de LED is dus van belang.\n",
    "\n",
    "Het lange eind verbinden we met GPIO18 op de Pi.\n",
    "Maar om te vermijden dat de LED (en bijgevolg de Pi misschien ook) teveel stroom te verwerken krijgt, moeten we nog een resistor in serie met de LED plaatsen.\n",
    "\n",
    "Volg de illustratie -en let op dat je een resistor met lage waarde gebruikt, zoals 220-360 Ohm-:\n",
    "\n",
    "<img src=\"LED01.png\" height=\"300\"/>\n",
    "\n",
    "En dan moeten we de Raspberry Pi enkel nog vertellen dat we pin GPIO18 graag zouden gebruiken als output, zodat we de spanning op die pin kunnen wijzigen."
   ]
  },
  {
   "cell_type": "code",
   "execution_count": null,
   "metadata": {
    "collapsed": true
   },
   "outputs": [],
   "source": [
    "# Als we een variabele maken met de naam PIN en de waarde 18, kunnen we deze overal gebruiken en\n",
    "# toch makkelijk wijzigen als de LED naar een andere pin verplaatst wordt.\n",
    "PIN = 18\n",
    "\n",
    "# pin instellen als output\n",
    "GPIO.setup(PIN, GPIO.OUT)"
   ]
  },
  {
   "cell_type": "markdown",
   "metadata": {},
   "source": [
    "Nu alle GPIO instellingen gebeurd zijn, kunnen we pin 18 aan het werk zetten.\n",
    "\n",
    "Hiervoor laden we eerst de time bibliotheek in, die tijdsgerelateerde functionaliteit beschikbaar maakt: time.sleep(x) is een functie die de computer vertelt dat hij x aantal seconden moet wachten voor hij verder gaat met de volgende instructie. "
   ]
  },
  {
   "cell_type": "code",
   "execution_count": null,
   "metadata": {
    "collapsed": false
   },
   "outputs": [],
   "source": [
    "import time\n",
    "\n",
    "# Eeuwig loopen (herhalen)\n",
    "while True:\n",
    "    # pin 18 uitschakelen\n",
    "    GPIO.output(PIN, 0)\n",
    "    # halve seconde wachten\n",
    "    time.sleep(.5)\n",
    "    # pin 18 weer inschakelen\n",
    "    GPIO.output(PIN, 1)\n",
    "    # halve seconde wachten\n",
    "    time.sleep(.5)\n",
    "    #... en opnieuw ..."
   ]
  },
  {
   "cell_type": "markdown",
   "metadata": {},
   "source": [
    "Nota: Om de code te onderbreken kan je:\n",
    "\n",
    "  - in de menubalk op de stop knop drukken\n",
    "  - in het menu bovenaan Kernel > Interrupt kiezen\n",
    "  - een keyboard shortcut gebruiken door tweemaal i te typen (enkel terwijl de cel zich in command modus (grijs rand) bevindt."
   ]
  },
  {
   "cell_type": "markdown",
   "metadata": {},
   "source": [
    "##Pulse Width Modulation\n",
    "\n",
    "Nu kunnen we binaire commando's sturen (\"aan\" en \"uit\"), maar de GPIO bibliotheek laat ons ook toe om een gesimuleerd analoog signaal te sturen, ook wel PWM genoemd. Dit bestaat erin om snel af te wisselen tussen aan en uit signalen en de verhouding tussen de totale \"aan\" en de totale \"uit\" tijd te gebruiken om een analoog niveau tussen 0 en 1 te simuleren.\n",
    "\n",
    "bvb 75% van de tijd \"aan\" == een duty cycle van 75% == een analoog signaal van 75% van de maximale amplitude\n",
    "\n",
    "In het geval van een LED uit zich dat in het feller of zwakker schijnen van de LED, in het geval van een motor kan het geïnterpreteerd worden als een beoogde snelheid of stand van de as.\n",
    "\n"
   ]
  },
  {
   "cell_type": "code",
   "execution_count": null,
   "metadata": {
    "collapsed": true
   },
   "outputs": [],
   "source": [
    "#reset the GPIO\n",
    "PIN = 18\n",
    "GPIO.cleanup()\n",
    "GPIO.setmode(GPIO.BCM)\n",
    "GPIO.setup(PIN, GPIO.OUT)"
   ]
  },
  {
   "cell_type": "code",
   "execution_count": null,
   "metadata": {
    "collapsed": false
   },
   "outputs": [],
   "source": [
    "# PWM frequentie instellen in Hz (cycles per seconde)\n",
    "led = GPIO.PWM(PIN, 60)\n",
    "\n",
    "# Starten met PWM\n",
    "led.start(0)\n",
    "\n",
    "try:\n",
    "    while True:\n",
    "        # duty cycle telkens met 1% verhogen\n",
    "        for dc in range(0, 101, 1):\n",
    "            led.ChangeDutyCycle(dc)\n",
    "            time.sleep(0.05)\n",
    "        # en weer omlaag ...\n",
    "        for dc in range(100, -1, -1):\n",
    "            led.ChangeDutyCycle(dc)\n",
    "            time.sleep(0.05)\n",
    "except KeyboardInterrupt:\n",
    "    pass\n",
    "led.stop()"
   ]
  },
  {
   "cell_type": "code",
   "execution_count": null,
   "metadata": {
    "collapsed": false
   },
   "outputs": [],
   "source": [
    "GPIO.cleanup()"
   ]
  }
 ],
 "metadata": {
  "kernelspec": {
   "display_name": "Python 2",
   "language": "python",
   "name": "python2"
  },
  "language_info": {
   "codemirror_mode": {
    "name": "ipython",
    "version": 2
   },
   "file_extension": ".py",
   "mimetype": "text/x-python",
   "name": "python",
   "nbconvert_exporter": "python",
   "pygments_lexer": "ipython2",
   "version": "2.7.8"
  }
 },
 "nbformat": 4,
 "nbformat_minor": 0
}
