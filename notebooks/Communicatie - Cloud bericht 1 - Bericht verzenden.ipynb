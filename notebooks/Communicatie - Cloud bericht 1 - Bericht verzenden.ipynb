{
 "cells": [
  {
   "cell_type": "markdown",
   "metadata": {},
   "source": [
    "APPKEY is de Application Key voor een (gratis) http://www.realtime.co/ \"Realtime Messaging Free\" subscription.  \n",
    "Zie \"[104 - Remote deurbel - Een cloud API gebruiken om berichten te sturen](104%20-%20Remote%20deurbel%20-%20Een%20cloud%20API%20gebruiken%20om%20berichten%20te%20sturen.ipynb)\" voor meer gedetailleerde info."
   ]
  },
  {
   "cell_type": "code",
   "execution_count": null,
   "metadata": {
    "collapsed": true
   },
   "outputs": [],
   "source": [
    "APPKEY = \"******\""
   ]
  },
  {
   "cell_type": "code",
   "execution_count": null,
   "metadata": {
    "collapsed": false
   },
   "outputs": [],
   "source": [
    "import ortc\n",
    "oc = ortc.OrtcClient()\n",
    "oc.cluster_url = \"http://ortc-developers.realtime.co/server/2.1\"\n",
    "oc.connect(APPKEY)"
   ]
  },
  {
   "cell_type": "code",
   "execution_count": null,
   "metadata": {
    "collapsed": false
   },
   "outputs": [],
   "source": [
    "oc.send(\"deurbel\", \"Hier ben ik!\")"
   ]
  },
  {
   "cell_type": "code",
   "execution_count": null,
   "metadata": {
    "collapsed": true
   },
   "outputs": [],
   "source": []
  }
 ],
 "metadata": {
  "kernelspec": {
   "display_name": "Python 2",
   "language": "python",
   "name": "python2"
  },
  "language_info": {
   "codemirror_mode": {
    "name": "ipython",
    "version": 2
   },
   "file_extension": ".py",
   "mimetype": "text/x-python",
   "name": "python",
   "nbconvert_exporter": "python",
   "pygments_lexer": "ipython2",
   "version": "2.7.8"
  }
 },
 "nbformat": 4,
 "nbformat_minor": 0
}
