{
 "cells": [
  {
   "cell_type": "markdown",
   "metadata": {},
   "source": [
    "APPKEY is de Application Key voor een (gratis) http://www.realtime.co/ \"Realtime Messaging Free\" subscription.  \n",
    "Zie \"[104 - Remote deurbel - Een cloud API gebruiken om berichten te sturen](104%20-%20Remote%20deurbel%20-%20Een%20cloud%20API%20gebruiken%20om%20berichten%20te%20sturen.ipynb)\" voor meer gedetailleerde info."
   ]
  },
  {
   "cell_type": "code",
   "execution_count": null,
   "metadata": {
    "collapsed": true
   },
   "outputs": [],
   "source": [
    "APPKEY = \"******\""
   ]
  },
  {
   "cell_type": "markdown",
   "metadata": {},
   "source": [
    "Eerst alles opzetten voor de LED (zie [102 - LEDs - De Raspberry Pi GPIO pinnen aansturen](102%20-%20LEDs%20-%20De%20Raspberry%20Pi%20GPIO%20pinnen%20aansturen.ipynb) voor een illustratie; hier wordt PIN 18 gebruikt, maar vergeet vooral de resistor niet!)"
   ]
  },
  {
   "cell_type": "code",
   "execution_count": null,
   "metadata": {
    "collapsed": true
   },
   "outputs": [],
   "source": [
    "import time\n",
    "import RPi.GPIO as GPIO\n",
    "GPIO.setmode(GPIO.BCM)\n",
    "\n",
    "PIN = 18\n",
    "GPIO.setup(PIN, GPIO.OUT)\n",
    "\n",
    "def flash_led():\n",
    "    GPIO.output(PIN, 1)\n",
    "    time.sleep(0.5)\n",
    "    GPIO.output(PIN, 0)"
   ]
  },
  {
   "cell_type": "markdown",
   "metadata": {},
   "source": [
    "Bepalen wat je wil dat er gebeurt als er een boodschap binnenkomt"
   ]
  },
  {
   "cell_type": "code",
   "execution_count": null,
   "metadata": {
    "collapsed": false
   },
   "outputs": [],
   "source": [
    "def on_message(sender, channel, message):\n",
    "    print(\"Boodschap ontvangen via {}: {}\".format(channel, message))\n",
    "    flash_led()"
   ]
  },
  {
   "cell_type": "markdown",
   "metadata": {},
   "source": [
    "En uiteindelijk inschrijven op de \"channel\" om boodschappen uit te lezen"
   ]
  },
  {
   "cell_type": "code",
   "execution_count": null,
   "metadata": {
    "collapsed": false
   },
   "outputs": [],
   "source": [
    "import ortc\n",
    "oc = ortc.OrtcClient()\n",
    "oc.cluster_url = \"http://ortc-developers.realtime.co/server/2.1\"\n",
    "\n",
    "def on_connected(sender):\n",
    "    print('Connected')\n",
    "    oc.subscribe('deurbel', True, on_message)\n",
    " \n",
    "oc.set_on_connected_callback(on_connected)\n",
    "oc.connect(APPKEY) "
   ]
  },
  {
   "cell_type": "markdown",
   "metadata": {},
   "source": [
    "Et voilá, stuur een boodschap met het verzendscript of via de realtime.co console."
   ]
  },
  {
   "cell_type": "code",
   "execution_count": null,
   "metadata": {
    "collapsed": true
   },
   "outputs": [],
   "source": [
    "GPIO.cleanup()"
   ]
  }
 ],
 "metadata": {
  "kernelspec": {
   "display_name": "Python 2",
   "language": "python",
   "name": "python2"
  }
 },
 "nbformat": 4,
 "nbformat_minor": 0
}
