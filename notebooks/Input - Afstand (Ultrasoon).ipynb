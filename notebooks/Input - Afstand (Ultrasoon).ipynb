{
 "cells": [
  {
   "cell_type": "markdown",
   "metadata": {},
   "source": [
    "<img src=\"DISTANCE01.png\" height=\"300\" />"
   ]
  },
  {
   "cell_type": "code",
   "execution_count": null,
   "metadata": {
    "collapsed": true
   },
   "outputs": [],
   "source": [
    "#We willen de software bibliotheken \"RPi.GPIO\" en \"time\" gebruiken in onze code\n",
    "import RPi.GPIO as GPIO\n",
    "import time\n",
    "\n",
    "#Voor de GPIO pinnetjes zullen we de BCM nummering gebruiken (cfr nummers op de behuizing)\n",
    "GPIO.setmode(GPIO.BCM)\n",
    "\n",
    "#De \"trigger\" pin van de ultrasone sensor gaan we aansluiten op poort 23\n",
    "TRIG = 23\n",
    "#De \"echo\" pin van de ultrasone sensor gaan we aansluiten op poort 24\n",
    "ECHO = 24\n",
    "\n",
    "#Stel de poorten op de Raspberry Pi in op \"output\" voor de trigger poort en \"input\" voor de echo poort\n",
    "#Op die manier kan de Raspberry Pi een trigger sturen en vervolgens een echo ontvangen\n",
    "GPIO.setup(TRIG,GPIO.OUT)\n",
    "GPIO.setup(ECHO,GPIO.IN)"
   ]
  },
  {
   "cell_type": "code",
   "execution_count": null,
   "metadata": {
    "collapsed": false
   },
   "outputs": [],
   "source": [
    "#trigger 2 seconden uitschakelen (trigger poort -nummer 23- 2 seconden op 0 volt zetten)\n",
    "print(\"Sensor stabiliseren\")\n",
    "GPIO.output(TRIG, 0)\n",
    "time.sleep(2)\n",
    "\n",
    "#trigger inschakelen, 10 milliseconden wachten en weer uitschakelen\n",
    "GPIO.output(TRIG, 1)\n",
    "time.sleep(0.00001)\n",
    "GPIO.output(TRIG, 0)\n",
    "\n",
    "#tijd opnemen zolang het echo signaal uit staat en opslaan in de pulse_start variabele\n",
    "pulse_start = time.time()\n",
    "while GPIO.input(ECHO)==0:\n",
    "  pulse_start = time.time()\n",
    "\n",
    "#tijd opnemen zolang het echo signaal aan staat en opslaan in de pulse_end variabele\n",
    "while GPIO.input(ECHO)==1:\n",
    "  pulse_end = time.time()\n",
    "\n",
    "#Dit geeft samen de lengte van de pulse, die rechtevenredig is met de afstand tot het gedetecteerde object\n",
    "pulse_duration = pulse_end - pulse_start\n",
    "\n",
    "#afstand berekenen in cm en afdrukken\n",
    "distance = pulse_duration * 17150\n",
    "print(\"Gemeten afstand: {0:.2f} cm\".format(distance))"
   ]
  },
  {
   "cell_type": "code",
   "execution_count": null,
   "metadata": {
    "collapsed": true
   },
   "outputs": [],
   "source": [
    "#GPIO poorten weer initialiseren\n",
    "GPIO.cleanup()"
   ]
  }
 ],
 "metadata": {
  "language_info": {
   "codemirror_mode": {
    "name": "ipython",
    "version": 2
   },
   "file_extension": ".py",
   "mimetype": "text/x-python",
   "name": "python",
   "nbconvert_exporter": "python",
   "pygments_lexer": "ipython2",
   "version": "2.7.3"
  }
 },
 "nbformat": 4,
 "nbformat_minor": 0
}
