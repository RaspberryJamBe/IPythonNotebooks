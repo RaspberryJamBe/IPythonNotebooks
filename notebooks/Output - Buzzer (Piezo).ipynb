{
 "cells": [
  {
   "cell_type": "markdown",
   "metadata": {},
   "source": [
    "<img src=\"Piezo01.png\" height=\"300\" />"
   ]
  },
  {
   "cell_type": "code",
   "execution_count": null,
   "metadata": {
    "collapsed": false
   },
   "outputs": [],
   "source": [
    "import RPi.GPIO as GPIO\n",
    "GPIO.setmode(GPIO.BCM)\n",
    "\n",
    "BUZZ_PIN = 18\n",
    "GPIO.setup(BUZZ_PIN, GPIO.OUT)\n",
    "GPIO.output(BUZZ_PIN,False)"
   ]
  },
  {
   "cell_type": "code",
   "execution_count": null,
   "metadata": {
    "collapsed": false
   },
   "outputs": [],
   "source": [
    "def hold(j):\n",
    "  for k in range(1,j):\n",
    "    pass\n",
    "\n",
    "def fire():\n",
    "    for j in range(1,1100):\n",
    "        GPIO.output(BUZZ_PIN,True)\n",
    "        hold(j)\n",
    "        GPIO.output(BUZZ_PIN,False)\n",
    "        hold(j)\n",
    "\n",
    "try:\n",
    "    while True:\n",
    "        print(\".\"),\n",
    "        fire()\n",
    "except KeyboardInterrupt:\n",
    "    print(\"Uitvoering onderbroken\")\n",
    "    GPIO.output(BUZZ_PIN,False)"
   ]
  },
  {
   "cell_type": "code",
   "execution_count": null,
   "metadata": {
    "collapsed": true
   },
   "outputs": [],
   "source": [
    "import time\n",
    "\n",
    "def buzz(pitch, duration):\n",
    "    period = 1.0 / pitch\n",
    "    delay = period / 2\n",
    "    cycles = int(duration * pitch)\n",
    "    for i in range(cycles):\n",
    "        last_time = time.time()\n",
    "        GPIO.output(BUZZ_PIN, True)\n",
    "        while time.time() < last_time + delay:\n",
    "            pass\n",
    "        GPIO.output(BUZZ_PIN, False)\n",
    "        while time.time() < last_time + 2 * delay:\n",
    "            pass"
   ]
  },
  {
   "cell_type": "code",
   "execution_count": null,
   "metadata": {
    "collapsed": false
   },
   "outputs": [],
   "source": [
    "try:\n",
    "    for pitch in range(500,10000,500):\n",
    "        print(\".\"),\n",
    "        buzz(pitch, duration = 0.5)\n",
    "except KeyboardInterrupt:\n",
    "    print(\"Uitvoering onderbroken\")\n",
    "    GPIO.output(BUZZ_PIN,False)"
   ]
  },
  {
   "cell_type": "code",
   "execution_count": null,
   "metadata": {
    "collapsed": false
   },
   "outputs": [],
   "source": [
    "GPIO.cleanup()"
   ]
  },
  {
   "cell_type": "code",
   "execution_count": null,
   "metadata": {
    "collapsed": true
   },
   "outputs": [],
   "source": []
  }
 ],
 "metadata": {
  "kernelspec": {
   "display_name": "Python 2",
   "language": "python",
   "name": "python2"
  },
  "language_info": {
   "codemirror_mode": {
    "name": "ipython",
    "version": 2
   },
   "file_extension": ".py",
   "mimetype": "text/x-python",
   "name": "python",
   "nbconvert_exporter": "python",
   "pygments_lexer": "ipython2",
   "version": "2.7.3"
  }
 },
 "nbformat": 4,
 "nbformat_minor": 0
}
