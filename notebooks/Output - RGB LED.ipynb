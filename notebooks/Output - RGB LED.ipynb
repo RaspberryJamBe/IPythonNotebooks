{
 "cells": [
  {
   "cell_type": "markdown",
   "metadata": {},
   "source": [
    "<img src=\"Dotstar01.png\" height=\"300\" />"
   ]
  },
  {
   "cell_type": "code",
   "execution_count": null,
   "metadata": {
    "collapsed": true
   },
   "outputs": [],
   "source": [
    "import time\n",
    "from dotstar import Adafruit_DotStar"
   ]
  },
  {
   "cell_type": "code",
   "execution_count": null,
   "metadata": {
    "collapsed": true
   },
   "outputs": [],
   "source": [
    "# Dotstar LEDs zijn ontwikkeld voor gebruik in een LED strip en de software bibliotheek is ook zo opgebouwd\n",
    "# dus maken we er hier een strip van met slechts 1 LED pixel\n",
    "numpixels = 1\n",
    "datapin   = 23   # GPIO pin 23 wordt verbonden met het data kanaal van de LED\n",
    "clockpin  = 24   # GPIO pin 24 wordt verbonden met het klok kanaal van de LED\n",
    "strip     = Adafruit_DotStar(numpixels, datapin, clockpin)\n",
    "strip.begin()    # dit moet aangeroepen worden vóór de LEDs gebruikt kunnen worden"
   ]
  },
  {
   "cell_type": "code",
   "execution_count": null,
   "metadata": {
    "collapsed": false
   },
   "outputs": [],
   "source": [
    "# en we kunnen starten!\n",
    "# eerst stellen we de helderheid in van de LED(s) (maximaal 255, dus 127 is 50%)\n",
    "strip.setBrightness(127)"
   ]
  },
  {
   "cell_type": "code",
   "execution_count": null,
   "metadata": {
    "collapsed": true
   },
   "outputs": [],
   "source": [
    "pixel_index  = 0               # Index van onze eerste (en enige) pixel\n",
    "kleur_rood = 0xFF0000          # Rood\n",
    "kleur_groen = 0x0000FF         # Groen\n",
    "kleur_blauw = 0x00FF00         # Blauw"
   ]
  },
  {
   "cell_type": "code",
   "execution_count": null,
   "metadata": {
    "collapsed": true
   },
   "outputs": [],
   "source": [
    "# kleur configureren\n",
    "strip.setPixelColor(pixel_index, kleur_blauw)\n",
    "# ingestelde configuratie activeren\n",
    "strip.show()"
   ]
  },
  {
   "cell_type": "code",
   "execution_count": null,
   "metadata": {
    "collapsed": false
   },
   "outputs": [],
   "source": [
    "kleur = kleur_rood                          # kleur variabele aanmaken en in geheugen stoppen met de waarde 0xFF0000 (rood)\n",
    "\n",
    "while True:                                 # Eeuwig blijven herhalen\n",
    "    strip.setPixelColor(pixel_index, kleur)\n",
    "    strip.show()                            # kleur tonen\n",
    "    time.sleep(0.5)                         # halve seconde wachten\n",
    "    \n",
    "    kleur >>= 8                             # kleurencyclus Rood -> Groen -> Blauw -> Zwart\n",
    "    if(kleur == 0): kleur = 0xFF0000        # Bij zwart, opnieuw naar Rood overgaan\n",
    "\n",
    "# klik de 'stop' knop bovenaan (of kies in het menu Kernel > Interrupt) om te stoppen "
   ]
  },
  {
   "cell_type": "code",
   "execution_count": null,
   "metadata": {
    "collapsed": false
   },
   "outputs": [],
   "source": [
    "import colorsys \n",
    "\n",
    "sat = 1\n",
    "value = 0.5\n",
    "length = 500\n",
    "\n",
    "for teller in range(0, length + 1):\n",
    "    hue = teller/float(length)\n",
    "    color = list(colorsys.hsv_to_rgb(hue, sat, value))\n",
    "    intcolor = int(color[0]*256)*256**2 + int(color[1]*256)*256 + int(color[2]*256)\n",
    "    strip.setPixelColor(pixel_index, intcolor)\n",
    "    strip.show()\n",
    "    #time.sleep(1.0/length)"
   ]
  },
  {
   "cell_type": "code",
   "execution_count": null,
   "metadata": {
    "collapsed": false
   },
   "outputs": [],
   "source": [
    "import math\n",
    "def makeColorGradient(frequency1, frequency2, frequency3, phase1, phase2, phase3, center=128, width=127, length=500):\n",
    "    for i in range(length):\n",
    "        rood = math.sin(frequency1*i + phase1) * width + center\n",
    "        groen = math.sin(frequency2*i + phase2) * width + center\n",
    "        blauw = math.sin(frequency3*i + phase3) * width + center\n",
    "        intcolor = int(rood) * 255**2 + int(groen) * 255 + int(blauw)\n",
    "        strip.setPixelColor(pixel_index, intcolor)\n",
    "        strip.show()\n",
    "        time.sleep(10.0/length)\n",
    "\n",
    "print(makeColorGradient(.01,.01,.01,2,0,4))"
   ]
  },
  {
   "cell_type": "code",
   "execution_count": null,
   "metadata": {
    "collapsed": true
   },
   "outputs": [],
   "source": [
    "strip.setBrightness(0)\n",
    "strip.show()"
   ]
  }
 ],
 "metadata": {
  "kernelspec": {
   "display_name": "Python 2",
   "language": "python",
   "name": "python2"
  },
  "language_info": {
   "codemirror_mode": {
    "name": "ipython",
    "version": 2
   },
   "file_extension": ".py",
   "mimetype": "text/x-python",
   "name": "python",
   "nbconvert_exporter": "python",
   "pygments_lexer": "ipython2",
   "version": "2.7.3"
  }
 },
 "nbformat": 4,
 "nbformat_minor": 0
}
