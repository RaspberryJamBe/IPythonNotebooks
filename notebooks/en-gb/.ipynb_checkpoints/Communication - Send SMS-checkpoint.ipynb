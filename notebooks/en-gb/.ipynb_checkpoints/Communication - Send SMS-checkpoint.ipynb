{
 "cells": [
  {
   "cell_type": "markdown",
   "metadata": {},
   "source": [
    "Requirement:\n",
    "--\n",
    "We use the online SMS service from http://clickatell.com/ en first need an account to access it. Clickatell offers a test acccount with a limited amount of free SMS messages. Different other services exist and your own mobile operator may offer a service as well, but then the below code needs to be adapted to your their API.\n",
    "\n",
    "After creating an account, you need to add a REST API in the interface, which Clickatell will generate an Auth(entication) Token. This token has to be filled in below:"
   ]
  },
  {
   "cell_type": "code",
   "execution_count": null,
   "metadata": {
    "collapsed": true
   },
   "outputs": [],
   "source": [
    "TOKEN = \"****************************************************************\"\n",
    "DEST = \"32475******\""
   ]
  },
  {
   "cell_type": "code",
   "execution_count": null,
   "metadata": {
    "collapsed": true
   },
   "outputs": [],
   "source": [
    "from clickatell.rest import Rest\n",
    "clickatell = Rest(TOKEN);"
   ]
  },
  {
   "cell_type": "code",
   "execution_count": null,
   "metadata": {
    "collapsed": false
   },
   "outputs": [],
   "source": [
    "response = clickatell.sendMessage([DEST], \"Raspi wants to be your BFF forever\", extra={'from':'32477550561'})\n",
    "# the extra['from'] parameters can be used to put any phone number, but it needs to be registered\n",
    "# in the Clickatell administration interface"
   ]
  },
  {
   "cell_type": "code",
   "execution_count": null,
   "metadata": {
    "collapsed": false
   },
   "outputs": [],
   "source": [
    "print response"
   ]
  },
  {
   "cell_type": "code",
   "execution_count": null,
   "metadata": {
    "collapsed": false
   },
   "outputs": [],
   "source": [
    "for entry in response:\n",
    "    print('destination {}:'.format(entry['destination']))\n",
    "    for key in entry.keys():\n",
    "        print(\"  {}: {}\".format(key, entry[key]))"
   ]
  },
  {
   "cell_type": "code",
   "execution_count": null,
   "metadata": {
    "collapsed": true
   },
   "outputs": [],
   "source": []
  }
 ],
 "metadata": {
  "kernelspec": {
   "display_name": "Python 2",
   "language": "python",
   "name": "python2"
  },
  "language_info": {
   "codemirror_mode": {
    "name": "ipython",
    "version": 2
   },
   "file_extension": ".py",
   "mimetype": "text/x-python",
   "name": "python",
   "nbconvert_exporter": "python",
   "pygments_lexer": "ipython2",
   "version": "2.7.8"
  }
 },
 "nbformat": 4,
 "nbformat_minor": 0
}
