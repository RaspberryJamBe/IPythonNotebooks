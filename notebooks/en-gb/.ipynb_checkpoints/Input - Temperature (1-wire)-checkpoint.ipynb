{
 "cells": [
  {
   "cell_type": "markdown",
   "metadata": {},
   "source": [
    "## DS18B20 1-wire temperatuur sensor\n",
    "\n",
    "<img src=\"Temperature01.png\" height=\"300\" />\n",
    "\n",
    "- VDD = 3v3\n",
    "- signal pin = GPIO4\n",
    "- 4.7 KOhm pull-up on signal\n",
    "\n",
    "Raspbery Pi installation + detecting the device ID:\n",
    "```\n",
    "> sudo modprobe w1-gpio\n",
    "> sudo modprobe w1-therm\n",
    "> cd /sys/bus/w1/devices/\n",
    "> ls\n",
    "```\n",
    "\n",
    "note: watch out with the Raspberry Pi 2 (because of DeviceTree config):  \n",
    "\"dtoverlay=w1-gpio\" needs to be added to /boot/config.txt  \n",
    "http://www.raspberrypi.org/forums/viewtopic.php?f=28&t=97314"
   ]
  },
  {
   "cell_type": "code",
   "execution_count": null,
   "metadata": {
    "collapsed": false
   },
   "outputs": [],
   "source": [
    "# Read sensor info in file format\n",
    "temp_file = open(\"/sys/bus/w1/devices/28-011465166dff/w1_slave\")\n",
    "temp_text = temp_file.read() \n",
    "temp_file.close()\n",
    "\n",
    "# The temperature can be found on the second line in the 10th column\n",
    "second_line = temp_text.split(\"\\n\")[1] \n",
    "temperature_text = second_line.split(\" \")[9]\n",
    "\n",
    "# The first two characters are \"t=\", so we'll drop those and convert the rest to a number.\n",
    "temperature = float(temperature_text[2:]) \n",
    "# Convert from millidegrees to degrees.\n",
    "temperature = temperature / 1000 \n",
    "print(\"Measured temperature: {}\".format(temperature))"
   ]
  },
  {
   "cell_type": "code",
   "execution_count": null,
   "metadata": {
    "collapsed": true
   },
   "outputs": [],
   "source": []
  }
 ],
 "metadata": {
  "kernelspec": {
   "display_name": "Python 2",
   "language": "python",
   "name": "python2"
  },
  "language_info": {
   "codemirror_mode": {
    "name": "ipython",
    "version": 2
   },
   "file_extension": ".py",
   "mimetype": "text/x-python",
   "name": "python",
   "nbconvert_exporter": "python",
   "pygments_lexer": "ipython2",
   "version": "2.7.8"
  }
 },
 "nbformat": 4,
 "nbformat_minor": 0
}
