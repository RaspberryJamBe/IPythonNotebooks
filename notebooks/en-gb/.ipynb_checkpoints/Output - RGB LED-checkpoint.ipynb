{
 "cells": [
  {
   "cell_type": "markdown",
   "metadata": {},
   "source": [
    "<img src=\"Dotstar01.png\" height=\"300\" />"
   ]
  },
  {
   "cell_type": "code",
   "execution_count": null,
   "metadata": {
    "collapsed": true
   },
   "outputs": [],
   "source": [
    "import time\n",
    "from dotstar import Adafruit_DotStar"
   ]
  },
  {
   "cell_type": "code",
   "execution_count": null,
   "metadata": {
    "collapsed": true
   },
   "outputs": [],
   "source": [
    "# Dotstar LEDs are designed for use in a LED strip and the software library reflects that\n",
    "# so we'll make use of a strip of one LED\n",
    "numpixels = 1\n",
    "datapin   = 23   # GPIO pin 23 is connected to the data channel of the LED\n",
    "clockpin  = 24   # GPIO pin 24 is connected to the clock channel of the LED\n",
    "strip     = Adafruit_DotStar(numpixels, datapin, clockpin)\n",
    "strip.begin()    # always call this before starting to use the LED"
   ]
  },
  {
   "cell_type": "code",
   "execution_count": null,
   "metadata": {
    "collapsed": false
   },
   "outputs": [],
   "source": [
    "# and we're ready to start!\n",
    "# first we set the brightness of the LED(s)  (max 255, so 127 is about 50%)\n",
    "strip.setBrightness(127)"
   ]
  },
  {
   "cell_type": "code",
   "execution_count": null,
   "metadata": {
    "collapsed": true
   },
   "outputs": [],
   "source": [
    "pixel_index  = 0               # Index of our first (and only) pixel\n",
    "color_red = 0xFF0000          # Red\n",
    "color_green = 0x0000FF         # Green\n",
    "color_blue = 0x00FF00         # Blue"
   ]
  },
  {
   "cell_type": "code",
   "execution_count": null,
   "metadata": {
    "collapsed": true
   },
   "outputs": [],
   "source": [
    "# configure color\n",
    "strip.setPixelColor(pixel_index, color_blue)\n",
    "# activate configuration\n",
    "strip.show()"
   ]
  },
  {
   "cell_type": "code",
   "execution_count": null,
   "metadata": {
    "collapsed": false
   },
   "outputs": [],
   "source": [
    "color = color_red                           # make a color variable and store it in memory\n",
    "\n",
    "while True:                                 # repeat forever\n",
    "    strip.setPixelColor(pixel_index, color)\n",
    "    strip.show()                            # show color\n",
    "    time.sleep(0.5)                         # wait half a second\n",
    "    \n",
    "    color >>= 8                             # color cycle Red -> Green -> Blue -> Black\n",
    "    if(color == 0): color = 0xFF0000        # At black, start again at Red\n",
    "\n",
    "# click the stop button (or choose Kernel > Interrupt from the menu) to stop the execution"
   ]
  },
  {
   "cell_type": "code",
   "execution_count": null,
   "metadata": {
    "collapsed": false
   },
   "outputs": [],
   "source": [
    "import colorsys \n",
    "\n",
    "sat = 1\n",
    "value = 0.5\n",
    "length = 500\n",
    "\n",
    "for teller in range(0, length + 1):\n",
    "    hue = teller/float(length)\n",
    "    color = list(colorsys.hsv_to_rgb(hue, sat, value))\n",
    "    intcolor = int(color[0]*256)*256**2 + int(color[1]*256)*256 + int(color[2]*256)\n",
    "    strip.setPixelColor(pixel_index, intcolor)\n",
    "    strip.show()\n",
    "    #time.sleep(1.0/length)"
   ]
  },
  {
   "cell_type": "code",
   "execution_count": null,
   "metadata": {
    "collapsed": false
   },
   "outputs": [],
   "source": [
    "import math\n",
    "def makeColorGradient(frequency1, frequency2, frequency3, phase1, phase2, phase3, center=128, width=127, length=500):\n",
    "    for i in range(length):\n",
    "        rood = math.sin(frequency1*i + phase1) * width + center\n",
    "        groen = math.sin(frequency2*i + phase2) * width + center\n",
    "        blauw = math.sin(frequency3*i + phase3) * width + center\n",
    "        intcolor = int(rood) * 255**2 + int(groen) * 255 + int(blauw)\n",
    "        strip.setPixelColor(pixel_index, intcolor)\n",
    "        strip.show()\n",
    "        time.sleep(10.0/length)\n",
    "\n",
    "print(makeColorGradient(.01,.01,.01,2,0,4))"
   ]
  },
  {
   "cell_type": "code",
   "execution_count": null,
   "metadata": {
    "collapsed": true
   },
   "outputs": [],
   "source": [
    "strip.setBrightness(0)\n",
    "strip.show()"
   ]
  }
 ],
 "metadata": {
  "kernelspec": {
   "display_name": "Python 2",
   "language": "python",
   "name": "python2"
  },
  "language_info": {
   "codemirror_mode": {
    "name": "ipython",
    "version": 2
   },
   "file_extension": ".py",
   "mimetype": "text/x-python",
   "name": "python",
   "nbconvert_exporter": "python",
   "pygments_lexer": "ipython2",
   "version": "2.7.8"
  }
 },
 "nbformat": 4,
 "nbformat_minor": 0
}
