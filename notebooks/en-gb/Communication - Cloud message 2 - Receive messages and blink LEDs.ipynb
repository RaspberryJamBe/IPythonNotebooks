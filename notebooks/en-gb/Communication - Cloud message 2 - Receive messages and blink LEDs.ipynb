{
 "cells": [
  {
   "cell_type": "markdown",
   "metadata": {},
   "source": [
    "APPKEY is the Application Key for a (free) http://www.realtime.co/ \"Realtime Messaging Free\" subscription.  \n",
    "See \"[104 - Remote deurbel - Een cloud API gebruiken om berichten te sturen](104%20-%20Remote%20door%20bell%20-%20Using%20a%20cloud%20API%20to%20send%20messages.ipynb)\" voor meer gedetailleerde info."
   ]
  },
  {
   "cell_type": "code",
   "execution_count": null,
   "metadata": {
    "collapsed": true
   },
   "outputs": [],
   "source": [
    "APPKEY = \"******\""
   ]
  },
  {
   "cell_type": "markdown",
   "metadata": {},
   "source": [
    "First set up the necessary conections to drive a LED (see [102 - LEDs - Drive LEDS with the Raspberry Pi GPIO pins](102%20-%20LEDs%20-%20Drive%20LEDS%20with%20the%20Raspberry%20Pi%20GPIO%20pins.ipynb) for an illustration; we'll be using PIN 18, but above all make sure you do not forget the resistor!)"
   ]
  },
  {
   "cell_type": "code",
   "execution_count": null,
   "metadata": {
    "collapsed": true
   },
   "outputs": [],
   "source": [
    "import time\n",
    "import RPi.GPIO as GPIO\n",
    "GPIO.setmode(GPIO.BCM)\n",
    "\n",
    "PIN = 18\n",
    "GPIO.setup(PIN, GPIO.OUT)\n",
    "\n",
    "def flash_led():\n",
    "    GPIO.output(PIN, 1)\n",
    "    time.sleep(0.5)\n",
    "    GPIO.output(PIN, 0)"
   ]
  },
  {
   "cell_type": "markdown",
   "metadata": {},
   "source": [
    "Create a function that defines what happens when a message comes in."
   ]
  },
  {
   "cell_type": "code",
   "execution_count": null,
   "metadata": {
    "collapsed": false
   },
   "outputs": [],
   "source": [
    "def on_message(sender, channel, message):\n",
    "    print(\"Received a message via {}: {}\".format(channel, message))\n",
    "    flash_led()"
   ]
  },
  {
   "cell_type": "markdown",
   "metadata": {},
   "source": [
    "And eventually subscribe to the \"doorbell\" channel to read out messages"
   ]
  },
  {
   "cell_type": "code",
   "execution_count": null,
   "metadata": {
    "collapsed": false
   },
   "outputs": [],
   "source": [
    "import ortc\n",
    "oc = ortc.OrtcClient()\n",
    "oc.cluster_url = \"http://ortc-developers.realtime.co/server/2.1\"\n",
    "\n",
    "def on_connected(sender):\n",
    "    print('Connected')\n",
    "    oc.subscribe('doorbell', True, on_message)\n",
    " \n",
    "oc.set_on_connected_callback(on_connected)\n",
    "oc.connect(APPKEY) "
   ]
  },
  {
   "cell_type": "markdown",
   "metadata": {},
   "source": [
    "Et voilá, send a message with the send script or by means of the realtime.co console."
   ]
  },
  {
   "cell_type": "code",
   "execution_count": null,
   "metadata": {
    "collapsed": true
   },
   "outputs": [],
   "source": [
    "GPIO.cleanup()"
   ]
  }
 ],
 "metadata": {
  "kernelspec": {
   "display_name": "Python 2",
   "language": "python",
   "name": "python2"
  },
  "language_info": {
   "codemirror_mode": {
    "name": "ipython",
    "version": 2
   },
   "file_extension": ".py",
   "mimetype": "text/x-python",
   "name": "python",
   "nbconvert_exporter": "python",
   "pygments_lexer": "ipython2",
   "version": "2.7.8"
  }
 },
 "nbformat": 4,
 "nbformat_minor": 0
}
