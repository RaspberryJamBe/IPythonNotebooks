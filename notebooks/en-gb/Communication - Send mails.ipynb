{
 "cells": [
  {
   "cell_type": "markdown",
   "metadata": {},
   "source": [
    "Requirement:\n",
    "--\n",
    "For sending mail you need an outgoing mail server (that, in the case of this script, also needs to allow unauthenticated outgoing communication). Fill out the required credentials in the folowing variables:"
   ]
  },
  {
   "cell_type": "code",
   "execution_count": null,
   "metadata": {
    "collapsed": true
   },
   "outputs": [],
   "source": [
    "MAIL_SERVER = \"mail.****.com\"\n",
    "FROM_ADDRESS = \"noreply@****.com\"\n",
    "TO_ADDRESS = \"my_friend@****.com\""
   ]
  },
  {
   "cell_type": "markdown",
   "metadata": {},
   "source": [
    "Sending a mail is, with the proper library, a piece of cake..."
   ]
  },
  {
   "cell_type": "code",
   "execution_count": 1,
   "metadata": {
    "collapsed": false
   },
   "outputs": [
    {
     "ename": "ImportError",
     "evalue": "No module named sender",
     "output_type": "error",
     "traceback": [
      "\u001b[1;31m---------------------------------------------------------------------------\u001b[0m",
      "\u001b[1;31mImportError\u001b[0m                               Traceback (most recent call last)",
      "\u001b[1;32m<ipython-input-1-f01e1e29ea29>\u001b[0m in \u001b[0;36m<module>\u001b[1;34m()\u001b[0m\n\u001b[1;32m----> 1\u001b[1;33m \u001b[1;32mfrom\u001b[0m \u001b[0msender\u001b[0m \u001b[1;32mimport\u001b[0m \u001b[0mMail\u001b[0m\u001b[1;33m\u001b[0m\u001b[0m\n\u001b[0m\u001b[0;32m      2\u001b[0m \u001b[0mmail\u001b[0m \u001b[1;33m=\u001b[0m \u001b[0mMail\u001b[0m\u001b[1;33m(\u001b[0m\u001b[0mMAIL_SERVER\u001b[0m\u001b[1;33m)\u001b[0m\u001b[1;33m\u001b[0m\u001b[0m\n\u001b[0;32m      3\u001b[0m \u001b[0mmail\u001b[0m\u001b[1;33m.\u001b[0m\u001b[0mfromaddr\u001b[0m \u001b[1;33m=\u001b[0m \u001b[1;33m(\u001b[0m\u001b[1;34m\"Secret admirer\"\u001b[0m\u001b[1;33m,\u001b[0m \u001b[0mFROM_ADDRESS\u001b[0m\u001b[1;33m)\u001b[0m\u001b[1;33m\u001b[0m\u001b[0m\n",
      "\u001b[1;31mImportError\u001b[0m: No module named sender"
     ]
    }
   ],
   "source": [
    "from sender import Mail\n",
    "mail = Mail(MAIL_SERVER)\n",
    "mail.fromaddr = (\"Secret admirer\", FROM_ADDRESS)"
   ]
  },
  {
   "cell_type": "code",
   "execution_count": null,
   "metadata": {
    "collapsed": true
   },
   "outputs": [],
   "source": [
    "mail.send_message(\"Raspberry Pi has a soft spot for you\", to=TO_ADDRESS, body=\"Hi sweety! Grab a smoothie?\")"
   ]
  },
  {
   "cell_type": "markdown",
   "metadata": {},
   "source": [
    "... but if we take it a little further, we can connect our doorbell project to the sending of mail!"
   ]
  },
  {
   "cell_type": "markdown",
   "metadata": {},
   "source": [
    "APPKEY is the Application Key for a (free) http://www.realtime.co/ \"Realtime Messaging Free\" subscription.  \n",
    "See \"[104 - Remote deurbel - Een cloud API gebruiken om berichten te sturen](104%20-%20Remote%20door%20bell%20-%20Using%20a%20cloud%20API%20to%20send%20messages.ipynb)\" voor meer gedetailleerde info. info."
   ]
  },
  {
   "cell_type": "code",
   "execution_count": null,
   "metadata": {
    "collapsed": true
   },
   "outputs": [],
   "source": [
    "APPKEY = \"******\""
   ]
  },
  {
   "cell_type": "code",
   "execution_count": null,
   "metadata": {
    "collapsed": true
   },
   "outputs": [],
   "source": [
    "mail.fromaddr = (\"Your doorbell\", FROM_ADDRESS)\n",
    "\n",
    "mail_to_addresses = {\n",
    "    \"Donald Duck\":\"dd@****.com\",\n",
    "    \"Maleficent\":\"mf@****.com\",\n",
    "    \"BigBadWolf\":\"bw@****.com\"\n",
    "    }\n",
    "\n",
    "def on_message(sender, channel, message):\n",
    "    mail_message = \"{}: Call for {}\".format(channel, message)\n",
    "    print(mail_message)\n",
    "    mail.send_message(\"Raspberry Pi alert!\", to=mail_to_addresses[message], body=mail_message)"
   ]
  },
  {
   "cell_type": "code",
   "execution_count": null,
   "metadata": {
    "collapsed": false
   },
   "outputs": [],
   "source": [
    "import ortc\n",
    "oc = ortc.OrtcClient()\n",
    "oc.cluster_url = \"http://ortc-developers.realtime.co/server/2.1\"\n",
    "\n",
    "def on_connected(sender):\n",
    "    print('Connected')\n",
    "    oc.subscribe('doorbell', True, on_message)\n",
    " \n",
    "oc.set_on_connected_callback(on_connected)\n",
    "oc.connect(APPKEY) "
   ]
  },
  {
   "cell_type": "code",
   "execution_count": null,
   "metadata": {
    "collapsed": true
   },
   "outputs": [],
   "source": []
  }
 ],
 "metadata": {
  "kernelspec": {
   "display_name": "Python 2",
   "language": "python",
   "name": "python2"
  },
  "language_info": {
   "codemirror_mode": {
    "name": "ipython",
    "version": 2
   },
   "file_extension": ".py",
   "mimetype": "text/x-python",
   "name": "python",
   "nbconvert_exporter": "python",
   "pygments_lexer": "ipython2",
   "version": "2.7.8"
  }
 },
 "nbformat": 4,
 "nbformat_minor": 0
}
