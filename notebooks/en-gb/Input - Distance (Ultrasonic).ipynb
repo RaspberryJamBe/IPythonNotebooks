{
 "cells": [
  {
   "cell_type": "markdown",
   "metadata": {},
   "source": [
    "HC-SR04 sensor\n",
    "==\n",
    "<img src=\"DISTANCE01.png\" height=\"300\" />"
   ]
  },
  {
   "cell_type": "markdown",
   "metadata": {},
   "source": [
    "Note: You need two resistors, one of about 1KOhm and one 2KOhm; the 1KOhm resistor connect the ECHO pin to the GPIO measuring pin (GPio 24), or between the two yellow wires in the drawing, while the 2KOhm makes the connection between the GPIO pin and GND (yellow to black)"
   ]
  },
  {
   "cell_type": "code",
   "execution_count": null,
   "metadata": {
    "collapsed": true
   },
   "outputs": [],
   "source": [
    "#We will use \"RPi.GPIO\" and \"time\" Python libraries in our code\n",
    "import RPi.GPIO as GPIO\n",
    "import time\n",
    "\n",
    "#Set BCM numbering gebruiken for the Raspberry Pi GPIO pins (cfr numbers on the case)\n",
    "GPIO.setmode(GPIO.BCM)\n",
    "\n",
    "#Set the \"trigger\" pin value for the ultrasonic sensor, which is connected to pin 23\n",
    "TRIG = 23\n",
    "#Set the \"echo\" pin value for the ultrasonic sensor, which is connected to pin 24\n",
    "ECHO = 24\n",
    "\n",
    "#Set the pin mode to \"output\" for the trigger pin and \"input\" for the echo pin\n",
    "#This way the Raspberry Pi can send a trigger signal and read the echo\n",
    "GPIO.setup(TRIG,GPIO.OUT)\n",
    "GPIO.setup(ECHO,GPIO.IN)"
   ]
  },
  {
   "cell_type": "code",
   "execution_count": null,
   "metadata": {
    "collapsed": false
   },
   "outputs": [],
   "source": [
    "#turn off trigger signal for 2 seconds to prevent disturbances\n",
    "#(i.e. set trigger pin -number 23- for 2 seconds to 0 volts)\n",
    "print(\"Sensor stabilization\")\n",
    "GPIO.output(TRIG, 0)\n",
    "time.sleep(2)\n",
    "\n",
    "#send a 10 microsecond trigger signal\n",
    "GPIO.output(TRIG, 1)\n",
    "time.sleep(0.00001)\n",
    "GPIO.output(TRIG, 0)\n",
    "\n",
    "#record the start and end times of the returning signal on the echo port to measure its length  \n",
    "tijd opnemen zolang het echo signaal uit staat en opslaan in de pulse_start variabele\n",
    "pulse_start = time.time()\n",
    "while GPIO.input(ECHO)==0:\n",
    "  pulse_start = time.time()\n",
    "\n",
    "while GPIO.input(ECHO)==1:\n",
    "  pulse_end = time.time()\n",
    "\n",
    "#The resulting length is directly related to the distance to the detected object\n",
    "pulse_duration = pulse_end - pulse_start\n",
    "\n",
    "#calculate and print the distance in cm\n",
    "distance = pulse_duration * 17150\n",
    "print(\"Measured distance: {0:.2f} cm\".format(distance))"
   ]
  },
  {
   "cell_type": "code",
   "execution_count": null,
   "metadata": {
    "collapsed": true
   },
   "outputs": [],
   "source": [
    "#reinitialize GPIO pins\n",
    "GPIO.cleanup()"
   ]
  }
 ],
 "metadata": {
  "kernelspec": {
   "display_name": "Python 2",
   "language": "python",
   "name": "python2"
  },
  "language_info": {
   "codemirror_mode": {
    "name": "ipython",
    "version": 2
   },
   "file_extension": ".py",
   "mimetype": "text/x-python",
   "name": "python",
   "nbconvert_exporter": "python",
   "pygments_lexer": "ipython2",
   "version": "2.7.8"
  }
 },
 "nbformat": 4,
 "nbformat_minor": 0
}
