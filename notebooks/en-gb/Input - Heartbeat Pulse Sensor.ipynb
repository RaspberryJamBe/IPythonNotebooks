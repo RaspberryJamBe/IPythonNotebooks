{
 "cells": [
  {
   "cell_type": "code",
   "execution_count": null,
   "metadata": {
    "collapsed": false
   },
   "outputs": [],
   "source": [
    "import time\n",
    "import RPi.GPIO as GPIO\n",
    " \n",
    "GPIO.setmode(GPIO.BCM)\n",
    "# read SPI data from MCP3008 chip, 8 possible adc's (0 thru 7)\n",
    "def readadc(adcnum, clockpin, mosipin, misopin, cspin):\n",
    "    if ( (adcnum > 7) or (adcnum < 0) ):\n",
    "        return -1\n",
    "    GPIO.output(cspin, True)\n",
    "    GPIO.output(clockpin, False) # start clock low\n",
    "    GPIO.output(cspin, False) # bring CS low\n",
    "    \n",
    "    commandout = adcnum\n",
    "    commandout |= 0x18 # start bit + single-ended bit\n",
    "    commandout <<= 3 # we only need to send 5 bits here\n",
    "    \n",
    "    for i in range(5):\n",
    "        if (commandout & 0x80):\n",
    "            GPIO.output(mosipin, True)\n",
    "        else:\n",
    "            GPIO.output(mosipin, False)\n",
    "        commandout <<= 1\n",
    "        GPIO.output(clockpin, True)\n",
    "        GPIO.output(clockpin, False)\n",
    "    \n",
    "    adcout = 0\n",
    "    \n",
    "    # read in one empty bit, one null bit and 10 ADC bits\n",
    "    for i in range(12):\n",
    "        GPIO.output(clockpin, True)\n",
    "        GPIO.output(clockpin, False)\n",
    "        adcout <<= 1\n",
    "        if (GPIO.input(misopin)):\n",
    "            adcout |= 0x1\n",
    "    GPIO.output(cspin, True)\n",
    "    \n",
    "    adcout >>= 1 # first bit is 'null' so drop it\n",
    "    return adcout\n",
    "\n",
    "# change these as desired - they're the pins connected from the\n",
    "# SPI port on the ADC to the Raspberry Pi</h1>\n",
    "SPICLK = 18\n",
    "SPIMISO = 23\n",
    "SPIMOSI = 24\n",
    "SPICS = 25\n",
    "\n",
    "GPIO.setwarnings(False)\n",
    "#set up the SPI interface pins\n",
    "GPIO.setup(SPIMOSI, GPIO.OUT)\n",
    "GPIO.setup(SPIMISO, GPIO.IN)\n",
    "GPIO.setup(SPICLK, GPIO.OUT)\n",
    "GPIO.setup(SPICS, GPIO.OUT)\n",
    "\n",
    "#pulse sensor connected to adc #0\n",
    "pulse_adc = 0\n",
    "#Threshold for pulse sensing (half of values between 0-1023)\n",
    "THRESH = 512"
   ]
  },
  {
   "cell_type": "code",
   "execution_count": null,
   "metadata": {
    "collapsed": false
   },
   "outputs": [],
   "source": [
    "#Pulse graph\n",
    "pulse = False\n",
    "THRESH = 512\n",
    "\n",
    "while True:\n",
    "    #read the analog pin\n",
    "    analog_value = readadc(pulse_adc, SPICLK, SPIMOSI, SPIMISO, SPICS)\n",
    "    #draw the equivalent number of points in an attempt to draw a vertical pulse sensing graph\n",
    "    output = int(analog_value / 100) * \".\"\n",
    "    #detect beats\n",
    "    if (analog_value > THRESH):\n",
    "        if (pulse == False):\n",
    "            pulse = True\n",
    "            output += \" Beat {}\".format(analog_value)\n",
    "    else:\n",
    "        pulse = False\n",
    "    print(output)\n",
    "    #hang out and do nothing for a tenth of a second\n",
    "    time.sleep(0.1)\n"
   ]
  },
  {
   "cell_type": "code",
   "execution_count": null,
   "metadata": {
    "collapsed": false
   },
   "outputs": [],
   "source": [
    "#BPM\n",
    "previous_seconds = time.time()\n",
    "\n",
    "while True:\n",
    "    #read the analog pin\n",
    "    analog_value = readadc(pulse_adc, SPICLK, SPIMOSI, SPIMISO, SPICS)\n",
    "    if (analog_value > THRESH):\n",
    "        if (pulse == False):\n",
    "            pulse = True\n",
    "            new_seconds = time.time()\n",
    "            duration = new_seconds - previous_seconds\n",
    "            print(analog_value)\n",
    "            print(60 / duration)\n",
    "            previous_seconds = new_seconds\n",
    "    else:\n",
    "        pulse = False\n",
    "    time.sleep(0.01)\n"
   ]
  }
 ],
 "metadata": {
  "kernelspec": {
   "display_name": "Python 2",
   "language": "python",
   "name": "python2"
  },
  "language_info": {
   "codemirror_mode": {
    "name": "ipython",
    "version": 2
   },
   "file_extension": ".py",
   "mimetype": "text/x-python",
   "name": "python",
   "nbconvert_exporter": "python",
   "pygments_lexer": "ipython2",
   "version": "2.7.3"
  }
 },
 "nbformat": 4,
 "nbformat_minor": 0
}
