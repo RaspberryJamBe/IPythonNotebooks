{
 "cells": [
  {
   "cell_type": "code",
   "execution_count": null,
   "metadata": {
    "collapsed": false
   },
   "outputs": [],
   "source": [
    "import pibrella\n",
    "import time\n",
    "\n",
    "pibrella.light.red.on()\n",
    "time.sleep(1)\n",
    "pibrella.light.red.off()"
   ]
  },
  {
   "cell_type": "code",
   "execution_count": null,
   "metadata": {
    "collapsed": false
   },
   "outputs": [],
   "source": [
    "pibrella.buzzer.fail()\n",
    "time.sleep(2)\n",
    "pibrella.buzzer.success()\n",
    "time.sleep(2)\n",
    "pibrella.buzzer.alarm()\n",
    "time.sleep(2)\n",
    "pibrella.buzzer.stop()"
   ]
  },
  {
   "cell_type": "code",
   "execution_count": null,
   "metadata": {
    "collapsed": false
   },
   "outputs": [],
   "source": [
    "while True:\n",
    "    if pibrella.button.read():\n",
    "        print(\"Button pressed\")\n",
    "    else:\n",
    "        pass\n",
    "    time.sleep(0.1)"
   ]
  },
  {
   "cell_type": "markdown",
   "metadata": {},
   "source": [
    "Nota: Kies Kernel > Interrupt uit het menu bovenaan om de uitvoering te beëindigen."
   ]
  },
  {
   "cell_type": "code",
   "execution_count": null,
   "metadata": {
    "collapsed": false
   },
   "outputs": [],
   "source": [
    "def button_pressed(pin):\n",
    "    pibrella.light.red.on()\n",
    "    pibrella.buzzer.alarm()\n",
    "    time.sleep(1)\n",
    "    print(\"You pressed the button!\")\n",
    "    pibrella.light.red.off()\n",
    "    pibrella.buzzer.stop()\n",
    "\n",
    "pibrella.button.pressed(button_pressed)"
   ]
  },
  {
   "cell_type": "markdown",
   "metadata": {
    "collapsed": true
   },
   "source": [
    "Nota: in dit geval er moet geen Kernel Interrupt verstuurd worden omdat de link met de functie in de achtergrond gebeurt (asynchroon) en de computer inmiddels vrij is om andere dingen te doen."
   ]
  }
 ],
 "metadata": {
  "language_info": {
   "codemirror_mode": {
    "name": "ipython",
    "version": 2
   },
   "file_extension": ".py",
   "mimetype": "text/x-python",
   "name": "python",
   "nbconvert_exporter": "python",
   "pygments_lexer": "ipython2",
   "version": "2.7.3"
  }
 },
 "nbformat": 4,
 "nbformat_minor": 0
}
