{
 "cells": [
  {
   "cell_type": "markdown",
   "metadata": {},
   "source": [
    "Vereisten\n",
    "--\n",
    "Voor deze oefening heb je een (gratis) account nodig bij http://www.realtime.co/; als je dit account aanmaakt en een \"Realtime Messaging Free\" subscription start, kan je daarvan de \"Application Key\" in de onderstaande variabele opslaan. Deze key wordt verder gebruikt bij het opzetten van de communicatie.\n",
    "\n",
    "Bovendien heb je tijdens het uitvoeren van deze notebook een verbinding nodig met het internet."
   ]
  },
  {
   "cell_type": "code",
   "execution_count": null,
   "metadata": {
    "collapsed": true
   },
   "outputs": [],
   "source": [
    "APPKEY = \"******\""
   ]
  },
  {
   "cell_type": "markdown",
   "metadata": {},
   "source": [
    "<img src=\"Doorbell01.png\" height=\"300\" />"
   ]
  },
  {
   "cell_type": "markdown",
   "metadata": {},
   "source": [
    "We willen de software bibliotheek \"RPi.GPIO\" gebruiken in onze code  \n",
    "En voor de GPIO pinnetjes zullen we zoals gewoonlijk de BCM nummering gebruiken (cfr nummers op de behuizing)"
   ]
  },
  {
   "cell_type": "code",
   "execution_count": null,
   "metadata": {
    "collapsed": true
   },
   "outputs": [],
   "source": [
    "import RPi.GPIO as GPIO\n",
    "GPIO.setmode(GPIO.BCM)"
   ]
  },
  {
   "cell_type": "markdown",
   "metadata": {},
   "source": [
    "ortc is een bibliotheek die een verbinding maakt met een realtime communicatiesysteem in de cloud (http://www.realtime.co/)  \n",
    "Dit is te vergelijken met e-mail, Twitter of Facebook Messenger, maar dan voor computers.  \n",
    "\"mWvTfc\" is de login/paswoord/toegangscode voor het account dat we allemaal tegelijk zullen gebruiken. "
   ]
  },
  {
   "cell_type": "code",
   "execution_count": null,
   "metadata": {
    "collapsed": false
   },
   "outputs": [],
   "source": [
    "import ortc\n",
    "oc = ortc.OrtcClient()\n",
    "oc.cluster_url = \"http://ortc-developers.realtime.co/server/2.1\"\n",
    "\n",
    "# Verbinding maken met het gedeelde account\n",
    "oc.connect(APPKEY)"
   ]
  },
  {
   "cell_type": "markdown",
   "metadata": {},
   "source": [
    "Met person_pins maken we een lijstje (eigenlijk een \"dictionary\" oftewel woordenboek) van GPIO pinnen met de bijhorende namen van de personen zodat de computer kan onthouden aan wie elk van de pinnen (en aangesloten deurbellen) toebehoort."
   ]
  },
  {
   "cell_type": "code",
   "execution_count": null,
   "metadata": {
    "collapsed": true
   },
   "outputs": [],
   "source": [
    "person_pins = {\n",
    "    17: \"Maleficent\",\n",
    "    27: \"BozeWolf\",\n",
    "}"
   ]
  },
  {
   "cell_type": "markdown",
   "metadata": {},
   "source": [
    "We zullen eens kijken of dit werkt; person_pins[17] moet de waarde geven die hoort bij nummer 17"
   ]
  },
  {
   "cell_type": "code",
   "execution_count": null,
   "metadata": {
    "collapsed": false
   },
   "outputs": [],
   "source": [
    "print(person_pins[17])"
   ]
  },
  {
   "cell_type": "markdown",
   "metadata": {},
   "source": [
    "send_message() is een functie met een parameter (die we \"pin\" hebben genoemd). Via deze parameter kunnen we de uitkomst beïnvloeden; als \"pin\" gelijk is aan 17, dan zal een \"deurbel\" boodschap doorgestuurd worden met de naam \"Maleficent\"."
   ]
  },
  {
   "cell_type": "code",
   "execution_count": null,
   "metadata": {
    "collapsed": true
   },
   "outputs": [],
   "source": [
    "def send_message(pin):\n",
    "    oc.send(\"deurbel\", person_pins[pin])"
   ]
  },
  {
   "cell_type": "markdown",
   "metadata": {},
   "source": [
    "Laatste stukje van de setup: nu gaan we voor elk van de pin waarden in person_pins:\n",
    "  1. de pin instellen als input\n",
    "  2. er een event aan koppelen (als de waarde van de pin van 1 op 0 springt -GPIO.FALLING-, moet send_message uitgevoerd worden)"
   ]
  },
  {
   "cell_type": "code",
   "execution_count": null,
   "metadata": {
    "collapsed": false
   },
   "outputs": [],
   "source": [
    "for pin in person_pins:\n",
    "    GPIO.setup(pin, GPIO.IN, GPIO.PUD_UP)\n",
    "    GPIO.add_event_detect(pin, GPIO.FALLING, send_message, 200)"
   ]
  },
  {
   "cell_type": "markdown",
   "metadata": {
    "collapsed": false
   },
   "source": [
    "Tijd om te testen: druk maar op de knop en kijk of je boodschap in de cloud verschijnt!\n",
    "\n",
    "Volg de volgende procedure om dit te checken:\n",
    "\n",
    "- log in op de Realtime website\n",
    "- klik op je naam om naar je account te gaan\n",
    "- klik op Subscriptions (het winkelkarretje links bovenaan)\n",
    "- open de \"Realtime Messaging Free\" subscription en klik op \"Console\"\n",
    "- voer onder Channel: \"deurbel\" in en klik op [Subscribe]\n",
    "- nu kan je een knop indrukken en zie je de boodschap verschijnen"
   ]
  },
  {
   "cell_type": "markdown",
   "metadata": {},
   "source": [
    "En weer opkuisen:"
   ]
  },
  {
   "cell_type": "code",
   "execution_count": null,
   "metadata": {
    "collapsed": true
   },
   "outputs": [],
   "source": [
    "for pin in person_pins:\n",
    "    GPIO.remove_event_detect(pin)"
   ]
  },
  {
   "cell_type": "code",
   "execution_count": null,
   "metadata": {
    "collapsed": true
   },
   "outputs": [],
   "source": [
    "GPIO.cleanup()"
   ]
  }
 ],
 "metadata": {
  "kernelspec": {
   "display_name": "Python 2",
   "language": "python",
   "name": "python2"
  },
  "language_info": {
   "codemirror_mode": {
    "name": "ipython",
    "version": 2
   },
   "file_extension": ".py",
   "mimetype": "text/x-python",
   "name": "python",
   "nbconvert_exporter": "python",
   "pygments_lexer": "ipython2",
   "version": "2.7.8"
  }
 },
 "nbformat": 4,
 "nbformat_minor": 0
}
