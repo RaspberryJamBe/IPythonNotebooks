{
 "cells": [
  {
   "cell_type": "markdown",
   "metadata": {},
   "source": [
    "Vereiste:\n",
    "--\n",
    "Voor het verzenden van Mail heb je een uitgaande mailserver nodig (die in het geval van dit script ook niet geauthenticeerde uitgaande communicatie moet toelaten). Vul de vereiste gegevens in in de volgende variabelen:"
   ]
  },
  {
   "cell_type": "code",
   "execution_count": null,
   "metadata": {
    "collapsed": true
   },
   "outputs": [],
   "source": [
    "MAIL_SERVER = \"mail.****.com\"\n",
    "FROM_ADDRESS = \"noreply@****.com\"\n",
    "TO_ADDRESS = \"my_friend@****.com\""
   ]
  },
  {
   "cell_type": "markdown",
   "metadata": {},
   "source": [
    "Een mail verzenden is, mits het inladen van de juiste bibliotheek, een fluitje van een cent..."
   ]
  },
  {
   "cell_type": "code",
   "execution_count": null,
   "metadata": {
    "collapsed": false
   },
   "outputs": [],
   "source": [
    "from sender import Mail\n",
    "mail = Mail(MAIL_SERVER)\n",
    "mail.fromaddr = (\"Geheime aanbidder\", FROM_ADDRESS)"
   ]
  },
  {
   "cell_type": "code",
   "execution_count": null,
   "metadata": {
    "collapsed": true
   },
   "outputs": [],
   "source": [
    "mail.send_message(\"Raspberry Pi heeft een boontje voor je\", to=TO_ADDRESS, body=\"Hey lekker ding! Zin in een smoothie?\")"
   ]
  },
  {
   "cell_type": "markdown",
   "metadata": {},
   "source": [
    "... maar als we het wat verder doordrijven kunnen we ons deurbel project via de cloud koppelen aan het verzenden van een mail!"
   ]
  },
  {
   "cell_type": "markdown",
   "metadata": {},
   "source": [
    "APPKEY is de Application Key voor een (gratis) http://www.realtime.co/ \"Realtime Messaging Free\" subscription.  \n",
    "Zie \"[104 - Remote deurbel - Een cloud API gebruiken om berichten te sturen](104%20-%20Remote%20deurbel%20-%20Een%20cloud%20API%20gebruiken%20om%20berichten%20te%20sturen.ipynb)\" voor meer gedetailleerde info."
   ]
  },
  {
   "cell_type": "code",
   "execution_count": null,
   "metadata": {
    "collapsed": true
   },
   "outputs": [],
   "source": [
    "APPKEY = \"******\""
   ]
  },
  {
   "cell_type": "code",
   "execution_count": null,
   "metadata": {
    "collapsed": true
   },
   "outputs": [],
   "source": [
    "mail.fromaddr = (\"Uw deurbel\", FROM_ADDRESS)\n",
    "\n",
    "mail_to_addresses = {\n",
    "    \"Donald Duck\":\"dd@****.com\",\n",
    "    \"Maleficent\":\"mf@****.com\",\n",
    "    \"BozeWolf\":\"bw@****.com\"\n",
    "    }\n",
    "\n",
    "def on_message(sender, channel, message):\n",
    "    boodschap = \"{}: Er is aangebeld bij {}\".format(channel, message)\n",
    "    print(boodschap)\n",
    "    mail.send_message(\"Raspberry Pi alert!\", to=mail_to_addresses[message], body=boodschap)"
   ]
  },
  {
   "cell_type": "code",
   "execution_count": null,
   "metadata": {
    "collapsed": false
   },
   "outputs": [],
   "source": [
    "import ortc\n",
    "oc = ortc.OrtcClient()\n",
    "oc.cluster_url = \"http://ortc-developers.realtime.co/server/2.1\"\n",
    "\n",
    "def on_connected(sender):\n",
    "    print('Connected')\n",
    "    oc.subscribe('deurbel', True, on_message)\n",
    " \n",
    "oc.set_on_connected_callback(on_connected)\n",
    "oc.connect(APPKEY) "
   ]
  },
  {
   "cell_type": "code",
   "execution_count": null,
   "metadata": {
    "collapsed": true
   },
   "outputs": [],
   "source": []
  }
 ],
 "metadata": {
  "kernelspec": {
   "display_name": "Python 2",
   "language": "python",
   "name": "python2"
  },
  "language_info": {
   "codemirror_mode": {
    "name": "ipython",
    "version": 2
   },
   "file_extension": ".py",
   "mimetype": "text/x-python",
   "name": "python",
   "nbconvert_exporter": "python",
   "pygments_lexer": "ipython2",
   "version": "2.7.8"
  }
 },
 "nbformat": 4,
 "nbformat_minor": 0
}
