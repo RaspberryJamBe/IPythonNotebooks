{
 "cells": [
  {
   "cell_type": "markdown",
   "metadata": {},
   "source": [
    "Vereiste:\n",
    "--\n",
    "De hier gebruikte online SMS dienst wordt beheerd door http://clickatell.com/ en vereist een account. Clickatell biedt een testaccount aan met een (beperkt) aantal gratis berichtjes. Er zijn verschillende andere diensten mogelijk, mogelijk zelfs uw eigen mobiele operator, maar dan dient de onderstaande code aangepast te worden aan de API van de aanbieder.\n",
    "\n",
    "Na het registreren voor een account, dient er een REST API angemaakt te worden, waarvoor Clickatell een Auth Token zal genereren. Dit token dient hieronder ingevuld te worden: "
   ]
  },
  {
   "cell_type": "code",
   "execution_count": null,
   "metadata": {
    "collapsed": true
   },
   "outputs": [],
   "source": [
    "TOKEN = \"****************************************************************\"\n",
    "DEST = \"32475******\""
   ]
  },
  {
   "cell_type": "code",
   "execution_count": null,
   "metadata": {
    "collapsed": true
   },
   "outputs": [],
   "source": [
    "from clickatell.rest import Rest\n",
    "clickatell = Rest(TOKEN);"
   ]
  },
  {
   "cell_type": "code",
   "execution_count": null,
   "metadata": {
    "collapsed": true
   },
   "outputs": [],
   "source": [
    "response = clickatell.sendMessage([DEST], \"Raspi wants to be your BFF forever\", extra={'from':'32477550561'})\n",
    "# de extra['from'] parameters kan gebruikt worden, maar dan dient het gebruikte telefoonnummer geregistreerd\n",
    "# te worden via de Clickatell administratie interface"
   ]
  },
  {
   "cell_type": "code",
   "execution_count": null,
   "metadata": {
    "collapsed": false
   },
   "outputs": [],
   "source": [
    "print response"
   ]
  },
  {
   "cell_type": "code",
   "execution_count": null,
   "metadata": {
    "collapsed": false
   },
   "outputs": [],
   "source": [
    "for entry in response:\n",
    "    print('destination {}:'.format(entry['destination']))\n",
    "    for key in entry.keys():\n",
    "        print(\"  {}: {}\".format(key, entry[key]))"
   ]
  },
  {
   "cell_type": "code",
   "execution_count": null,
   "metadata": {
    "collapsed": true
   },
   "outputs": [],
   "source": []
  }
 ],
 "metadata": {
  "kernelspec": {
   "display_name": "Python 2",
   "language": "python",
   "name": "python2"
  },
  "language_info": {
   "codemirror_mode": {
    "name": "ipython",
    "version": 2
   },
   "file_extension": ".py",
   "mimetype": "text/x-python",
   "name": "python",
   "nbconvert_exporter": "python",
   "pygments_lexer": "ipython2",
   "version": "2.7.8"
  }
 },
 "nbformat": 4,
 "nbformat_minor": 0
}
