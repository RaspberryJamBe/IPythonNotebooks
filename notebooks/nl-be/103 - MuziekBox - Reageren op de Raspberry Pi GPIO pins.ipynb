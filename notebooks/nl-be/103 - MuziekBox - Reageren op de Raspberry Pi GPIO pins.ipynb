{
 "cells": [
  {
   "cell_type": "markdown",
   "metadata": {},
   "source": [
    "##Reageren op de Raspberry Pi GPIO pins\n",
    "\n",
    "Met deze IPython Notebook verbinden we hardware met software. We zullen een knop verbinden met de General Purpose Input/Output (GPIO) pinnen* op de Raspberry Pi en wanneer de knop ingedrukt wordt, de Pi een functie laten uitvoeren.\n",
    "\n",
    "    GPIO pinnen zijn de 40 (genummerde) pinnen tegenover de HDMI/scherm aansluiting waarop elektronische componenten aangesloten kunnen worden.\n",
    "\n",
    "Maar eerst maken we de functie die we willen aanroepen. Er staan al enkele geluiden in de vorm van .wav files op de Pi (d.i. zoiets als MP3 bestanden) en er staat een bibliotheek op de Pi die deze geluiden kan afspelen (de pygame bibliotheek die gebruikt wordt om spelletjes te maken in Python)\n",
    "\n",
    "Dus we importeren de mixer module van de pygame bibliotheek en initaliseren ze:\n",
    "\n",
    "####IPython Instructies:\n",
    "\n",
    "Plaats je cursor in de cel hieronder en druk Shift+Enter of klik op de Play knop in de menubalk bovenaan om de code in de cel uit te voeren\n",
    "\n",
    "- Shift + Enter: Voer de cel uit en spring naar de volgende cel\n",
    "- Ctrl + Enter: Voer de cel uit, maar blijf op de huidige cel staan\n",
    "- Alt + Enter: Voer de cel uit en maak een nieuwe cel aan\n",
    "\n",
    "Zolang er een [\\*] staat links van de cel is de code nog aan het lopen. Zodra de code beëindigd is, komt er een volgnummmer en wordt eventuele output uitgeprint onder de cel"
   ]
  },
  {
   "cell_type": "code",
   "execution_count": null,
   "metadata": {
    "collapsed": true
   },
   "outputs": [],
   "source": [
    "import pygame.mixer\n",
    "pygame.mixer.init()"
   ]
  },
  {
   "cell_type": "markdown",
   "metadata": {},
   "source": [
    "We vragen de pygame bibliotheek een .wav bestand in het geheugen te laden en er een geluid van te maken\n",
    "(en omdat we het niet kunnen laten spelen we het ineens een keertje af; vergeet geen boxen of hoofdtelefoon aan te sluiten)\n",
    "\n",
    "nota: het wav bestand halen we uit een map die geïnstalleerd is als onderdeel van de Sonic Pi software "
   ]
  },
  {
   "cell_type": "code",
   "execution_count": null,
   "metadata": {
    "collapsed": false
   },
   "outputs": [],
   "source": [
    "drum = pygame.mixer.Sound(\"/opt/sonic-pi/etc/samples/drum_tom_mid_hard.wav\")\n",
    "drum.play()"
   ]
  },
  {
   "cell_type": "markdown",
   "metadata": {},
   "source": [
    "De play() methode van het drum geluid kunnen we in een zelfgemaakte functie stoppen, zodat we ze later kunnen hergebruiken. "
   ]
  },
  {
   "cell_type": "code",
   "execution_count": null,
   "metadata": {
    "collapsed": true
   },
   "outputs": [],
   "source": [
    "def play():\n",
    "    print(\"Drumroffel !\")\n",
    "    drum.play()"
   ]
  },
  {
   "cell_type": "markdown",
   "metadata": {},
   "source": [
    "nota: de \"pin\" parameter gebruiken we (nog) niet, maar verderop hebben we ze wel nodig\n",
    "\n",
    "Laat ons de play functie al eens aanroepen met een willekeurige pin waarde."
   ]
  },
  {
   "cell_type": "code",
   "execution_count": null,
   "metadata": {
    "collapsed": false
   },
   "outputs": [],
   "source": [
    "play()"
   ]
  },
  {
   "cell_type": "markdown",
   "metadata": {},
   "source": [
    "Hoog tijd om een knop aan te sluiten. We gebruiken de BCM nummering, zoals gegraveerd op de case en geprint op het GPIO pinout document.\n",
    "\n",
    "Gebruik de onderstaande illustratie als leidraad:\n",
    "\n",
    "<img src=\"MusicBox01.png\" height=\"300\"/>"
   ]
  },
  {
   "cell_type": "code",
   "execution_count": null,
   "metadata": {
    "collapsed": true
   },
   "outputs": [],
   "source": [
    "#GPIO bibliotheek inladen\n",
    "import RPi.GPIO as GPIO\n",
    "#Methode van pin nummering (BCM) instellen\n",
    "GPIO.setmode(GPIO.BCM)\n",
    "\n",
    "#pin 17 activeren als input en de ingebouwde pull-up/pull-down instellen als pull-up\n",
    "GPIO.setup(17, GPIO.IN, GPIO.PUD_UP)"
   ]
  },
  {
   "cell_type": "markdown",
   "metadata": {},
   "source": [
    "En met dit alles achter de rug kunnen we Python vragen een event te registreren.\n",
    "\n",
    "Telkens er een \"FALLING\" event gedetecteerd wordt op pin 17, moet Python de eerder gecreëerde functie play aanroepen. Bovendien zal Python, ook al gebruiken we het nog niet, het pin nummer van de pin die het event veroorzaakte, meegeven aan de play functie.\n",
    "\n",
    "Omdat de add_event_detect functie aan de play functie moet kunnen vertellen welke pin het signaal heeft gedetecteerd, voegen we wel eerst nog een pin_number parameter toe aan de play functie:"
   ]
  },
  {
   "cell_type": "code",
   "execution_count": null,
   "metadata": {
    "collapsed": false
   },
   "outputs": [],
   "source": [
    "def play(pin_number):\n",
    "    print(\"Drumroffel !\")\n",
    "    drum.play()\n",
    "\n",
    "GPIO.add_event_detect(17, GPIO.FALLING, play, 200)"
   ]
  },
  {
   "cell_type": "markdown",
   "metadata": {},
   "source": [
    "Test maar uit door op de knop te drukken.\n",
    "\n",
    "Als je tevreden bent van het resultaat, kan je het event weer verwijderen met de volgende functie:"
   ]
  },
  {
   "cell_type": "code",
   "execution_count": null,
   "metadata": {
    "collapsed": false
   },
   "outputs": [],
   "source": [
    "GPIO.remove_event_detect(17)"
   ]
  },
  {
   "cell_type": "markdown",
   "metadata": {},
   "source": [
    "Ok, dit was zo leuk dat we er nog wel eentje kunnen doen:"
   ]
  },
  {
   "cell_type": "code",
   "execution_count": null,
   "metadata": {
    "collapsed": false
   },
   "outputs": [],
   "source": [
    "cymbal = pygame.mixer.Sound(\"/opt/sonic-pi/etc/samples/drum_cymbal_open.wav\")\n",
    "cymbal.play()"
   ]
  },
  {
   "cell_type": "markdown",
   "metadata": {},
   "source": [
    "Alleen pakken we het ditmaal lichtjes anders aan. We zullen de geluiden opslaan in een dictionary, waarbij we het pin nummer koppelen aan het geluid dat we willen laten horen:"
   ]
  },
  {
   "cell_type": "code",
   "execution_count": null,
   "metadata": {
    "collapsed": false
   },
   "outputs": [],
   "source": [
    "sound_pins = {\n",
    "    17: drum,\n",
    "    27: cymbal,\n",
    "}"
   ]
  },
  {
   "cell_type": "markdown",
   "metadata": {},
   "source": [
    "Eens proberen?"
   ]
  },
  {
   "cell_type": "code",
   "execution_count": null,
   "metadata": {
    "collapsed": true
   },
   "outputs": [],
   "source": [
    "sound_pins[17].play()"
   ]
  },
  {
   "cell_type": "markdown",
   "metadata": {},
   "source": [
    "Dat maakt dat we, in plaats van twee functies te maken die we apart registreren, we met één functie kunnen volstaan door gebruik te maken van het feit dat het pin nummer wordt doorgegeven aan de play functie en de dictionary die ons vertelt welk geluid erbij hoort."
   ]
  },
  {
   "cell_type": "code",
   "execution_count": null,
   "metadata": {
    "collapsed": false
   },
   "outputs": [],
   "source": [
    "def play(pin):\n",
    "    sound = sound_pins[pin]\n",
    "    print(\"Geluid spelen voor pin %s\" % pin)\n",
    "\n",
    "    sound.play()"
   ]
  },
  {
   "cell_type": "markdown",
   "metadata": {},
   "source": [
    "Zie hieronder het schema dat nagebouwd kan worden:\n",
    "\n",
    "<img src=\"MusicBox02.png\" height=\"300\" />\n",
    "\n",
    "Ook het opzetten van de pins en de registratie van een event kunnen we zo \"aan de lopende band\" doen door ze in een loop te stoppen die één keer uitgevoerd wordt voor elke pin in de dictionary (twee dus, in dit geval, maar het zou een hele piano kunnen zijn)"
   ]
  },
  {
   "cell_type": "code",
   "execution_count": null,
   "metadata": {
    "collapsed": false
   },
   "outputs": [],
   "source": [
    "for pin in sound_pins:\n",
    "    GPIO.setup(pin, GPIO.IN, GPIO.PUD_UP)\n",
    "    GPIO.add_event_detect(pin, GPIO.FALLING, play, 200)"
   ]
  },
  {
   "cell_type": "markdown",
   "metadata": {},
   "source": [
    "Music time!\n",
    "\n",
    "probeer maar uit...\n",
    "\n",
    "En dan kunnen we op dezelfde manier de event registraties weer verwijderen."
   ]
  },
  {
   "cell_type": "code",
   "execution_count": null,
   "metadata": {
    "collapsed": false
   },
   "outputs": [],
   "source": [
    "for pin in sound_pins:\n",
    "    GPIO.remove_event_detect(pin)"
   ]
  },
  {
   "cell_type": "code",
   "execution_count": null,
   "metadata": {
    "collapsed": false
   },
   "outputs": [],
   "source": [
    "#Alle GPIO instellingen weer opkuisen\n",
    "GPIO.cleanup()"
   ]
  },
  {
   "cell_type": "code",
   "execution_count": null,
   "metadata": {
    "collapsed": false
   },
   "outputs": [],
   "source": []
  }
 ],
 "metadata": {
  "kernelspec": {
   "display_name": "Python 2",
   "language": "python",
   "name": "python2"
  },
  "language_info": {
   "codemirror_mode": {
    "name": "ipython",
    "version": 2
   },
   "file_extension": ".py",
   "mimetype": "text/x-python",
   "name": "python",
   "nbconvert_exporter": "python",
   "pygments_lexer": "ipython2",
   "version": "2.7.8"
  }
 },
 "nbformat": 4,
 "nbformat_minor": 0
}
