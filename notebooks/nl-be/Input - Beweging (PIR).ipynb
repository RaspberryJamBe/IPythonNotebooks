{
 "cells": [
  {
   "cell_type": "markdown",
   "metadata": {},
   "source": [
    "<img src=\"PIR01.png\" height=\"300\"/>"
   ]
  },
  {
   "cell_type": "code",
   "execution_count": null,
   "metadata": {
    "collapsed": true
   },
   "outputs": [],
   "source": [
    "# We willen de software bibliotheken \"RPi.GPIO\" en \"time\" gebruiken in onze code\n",
    "import RPi.GPIO as GPIO\n",
    "import time\n",
    "\n",
    "# Voor de GPIO pinnetjes zullen we de BCM nummering gebruiken (cfr nummers op de behuizing)\n",
    "GPIO.setmode(GPIO.BCM)\n",
    "\n",
    "# De PIR pin van de sensor sluiten we aan op poort 18\n",
    "PIR_PIN = 7\n",
    "#De LED gaan we aansluiten op poort 24\n",
    "LED_PIN = 18\n",
    "\n",
    "# Op de Raspberry Pi stellen we de PIR pin in als \"input\" en de LED poort als \"output\"\n",
    "# Op die manier kan de Raspberry Pi luisteren naar de PIR en een signaal sturen naar de LED\n",
    "GPIO.setup(PIR_PIN, GPIO.IN)\n",
    "GPIO.setup(LED_PIN, GPIO.OUT)"
   ]
  },
  {
   "cell_type": "code",
   "execution_count": null,
   "metadata": {
    "collapsed": true
   },
   "outputs": [],
   "source": [
    "# We maken een functie om de led één keer te laten knipperen\n",
    "def flash_led():\n",
    "    GPIO.output(LED_PIN, 1)\n",
    "    time.sleep(0.5)\n",
    "    GPIO.output(LED_PIN, 0)"
   ]
  },
  {
   "cell_type": "code",
   "execution_count": null,
   "metadata": {
    "collapsed": true
   },
   "outputs": [],
   "source": [
    "# En op basis daarvan een functie die uitgevoerd moet worden als er beweging gedetecteerd wordt \n",
    "def on_motion(PIR_PIN):\n",
    "    flash_led()\n",
    "    print(\"Halt!\")"
   ]
  },
  {
   "cell_type": "code",
   "execution_count": null,
   "metadata": {
    "collapsed": true
   },
   "outputs": [],
   "source": [
    "# Hier koppelen we de PIR_PIN aan de on_motion functie die we net gemaakt hebben.\n",
    "# we registreren een event detection in de GPIO bibliotheek en bepalen dat,\n",
    "# wanneer de Raspberry Pi ziet dat er op de PIR_PIN een \"RISING\" signaal binnenkomt (de pin gaat van 0 naar 1),\n",
    "# de on_motion functie uitgevoerd moet worden.\n",
    "GPIO.add_event_detect(PIR_PIN, GPIO.RISING, callback=on_motion)"
   ]
  },
  {
   "cell_type": "markdown",
   "metadata": {},
   "source": [
    "Nu kan je de bewegingssensor triggeren en zal de Raspberry Pi je functie uitvoeren"
   ]
  },
  {
   "cell_type": "code",
   "execution_count": null,
   "metadata": {
    "collapsed": true
   },
   "outputs": [],
   "source": [
    "#GPIO opkuisen:\n",
    "#de net geregistreerde event detection verwijderen en GPIO herinitialiseren\n",
    "GPIO.remove_event_detect(PIR_PIN)\n",
    "GPIO.cleanup()"
   ]
  }
 ],
 "metadata": {
  "language_info": {
   "codemirror_mode": {
    "name": "ipython",
    "version": 2
   },
   "file_extension": ".py",
   "mimetype": "text/x-python",
   "name": "python",
   "nbconvert_exporter": "python",
   "pygments_lexer": "ipython2",
   "version": "2.7.3"
  }
 },
 "nbformat": 4,
 "nbformat_minor": 0
}
