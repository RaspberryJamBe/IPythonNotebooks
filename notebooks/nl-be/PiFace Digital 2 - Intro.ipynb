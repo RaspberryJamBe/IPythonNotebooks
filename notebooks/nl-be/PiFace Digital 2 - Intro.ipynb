{
 "cells": [
  {
   "cell_type": "markdown",
   "metadata": {},
   "source": [
    "## PiFace Digital 2\n",
    "Zorg dat je een Raspberry Pi gebruikt met de PiFace Digital 2 aangesloten en volg de onderstaande stappen één voor één.\n",
    "\n",
    "Eerst moeten we de Python interpreter vertellen dat we met de PiFace gaan werken en dat hij dus de (reeds geïnstalleerde) PiFace bibliotheek moet inladen.\n",
    "\n",
    "Zet hiervoor je cursor in de cel hieronder en druk op Shift + Enter om de code die erin staat uit te voeren."
   ]
  },
  {
   "cell_type": "code",
   "execution_count": null,
   "metadata": {
    "collapsed": true
   },
   "outputs": [],
   "source": [
    "import pifacedigitalio as pf"
   ]
  },
  {
   "cell_type": "markdown",
   "metadata": {},
   "source": [
    "Om ons wat typwerk te besparen hebben we bij het importeren de bibliotheek ook meteen hernoemd naar \"pf\" en zo zullen we ze vanaf nu ook aanroepen.\n",
    "Voor we het device zelf kunnen gebruiken, moeten we het initialiseren, zodat de bibliotheek alle beginparameters kan goedzetten.\n",
    "\n",
    "Druk opnieuw op Shift + Enter in de onderstaande cel."
   ]
  },
  {
   "cell_type": "code",
   "execution_count": null,
   "metadata": {
    "collapsed": true
   },
   "outputs": [],
   "source": [
    "pf.init()"
   ]
  },
  {
   "cell_type": "markdown",
   "metadata": {},
   "source": [
    "Nu begint het echte werk :-) De groene en oranje schroefterminals laten we nog even terzijde. We concentreren ons enkel op de knoppen en ledjes die al op het bord gesoldeerd zijn (en die weliswaar op dezelfde Raspberry Pi poorten aangesloten zijn als de terminals).\n",
    "\n",
    "Wat gebeurt er als je de onderstaande code uitvoert?"
   ]
  },
  {
   "cell_type": "code",
   "execution_count": null,
   "metadata": {
    "collapsed": false
   },
   "outputs": [],
   "source": [
    "pf.digital_read(0)"
   ]
  },
  {
   "cell_type": "markdown",
   "metadata": {},
   "source": [
    "Inderdaad, niet veel :-D\n",
    "\n",
    "Maar we krijgen wel een antwoord. De \"Out[]\" lijn is een manier voor IPython om ons te vertellen dat de functie die we uitgevoerd hebben een resultaat teruggeeft en in dit geval is dat \"0\".\n",
    "In dit geval is het de PiFace Digital 2 bibliotheek die ons vertelt dat het resultaat van het digitaal (\"digital\") uitlezen (\"read\") van de eerste knop (input \"0\") ook 0 is.\n",
    "\n",
    "Houd nu knop 0 (S0, het knopje het dichtst bij de scheiding tussen de groene en gele schroefterminals) ingedrukt en voer tegelijkertijd hieronder nogmaals dezelfde code uit:"
   ]
  },
  {
   "cell_type": "code",
   "execution_count": null,
   "metadata": {
    "collapsed": false
   },
   "outputs": [],
   "source": [
    "pf.digital_read(0)"
   ]
  },
  {
   "cell_type": "markdown",
   "metadata": {},
   "source": [
    "1?\n",
    "\n",
    "Proficiat! Dit was je eerste succesvolle manipulatie van programmeerbare electronica!\n",
    "\n",
    "Dan kunnen we nu een stapje verder gaan en een functie met 2 variabelen aanroepen. Probeer eens te bedenken wat de volgende functie zou kunnen doen, voor je ze aanroept."
   ]
  },
  {
   "cell_type": "code",
   "execution_count": null,
   "metadata": {
    "collapsed": true
   },
   "outputs": [],
   "source": [
    "pf.digital_write(7, 1)"
   ]
  },
  {
   "cell_type": "markdown",
   "metadata": {},
   "source": [
    "Met deze functie zetten we dus de waarde van output \"7\" op \"1\". Oftewel, we zetten de LED, aangesloten op de achtste poort (computers beginnen altijd van nul te tellen) op \"AAN\".\n",
    "\n",
    "Wat hier eigenlijk gebeurt, is dat we spanning zetten op poort 7 en er dus stroom begint te vloeien door de LED die erop is aangesloten.\n",
    "\n",
    "Zetten we de spanning weer op 0, dan stopt de stroom en de LED gaat uit: "
   ]
  },
  {
   "cell_type": "code",
   "execution_count": null,
   "metadata": {
    "collapsed": true
   },
   "outputs": [],
   "source": [
    "pf.digital_write(7, 0)"
   ]
  },
  {
   "cell_type": "markdown",
   "metadata": {},
   "source": [
    "Door bibliotheken, functies en structuren samen te voegen, kunnen we programma's schrijven; van heel eenvoudig tot complex. Hieronder een eenvoudig voorbeeld :-)\n",
    "\n",
    "De functie sleep kunnen we inladen vanuit de time bibliotheek (die onderdeel is van de standaard Python installatie). Met deze functie kan je de computer een aantal seconden (in dit geval 0.4 seconden) laten wachten.\n",
    "\n",
    "Probeer eens in te schatten wat de code juist doet en voer ze dan uit."
   ]
  },
  {
   "cell_type": "code",
   "execution_count": null,
   "metadata": {
    "collapsed": false
   },
   "outputs": [],
   "source": [
    "from time import sleep\n",
    "\n",
    "while(True):\n",
    "    pf.digital_write(7, 1)\n",
    "    sleep(0.4)\n",
    "    pf.digital_write(7, 0)\n",
    "    sleep(0.4)\n",
    "    if (pf.digital_read(3) == 1):\n",
    "        break"
   ]
  },
  {
   "cell_type": "markdown",
   "metadata": {},
   "source": [
    "Tip: houd knop S3 (die het dichtst bij de netwerkaansluiting) even ingedrukt (meer dan 0.8 seconden is niet nodig)"
   ]
  },
  {
   "cell_type": "code",
   "execution_count": null,
   "metadata": {
    "collapsed": true
   },
   "outputs": [],
   "source": [
    "pf.deinit()"
   ]
  },
  {
   "cell_type": "code",
   "execution_count": null,
   "metadata": {
    "collapsed": true
   },
   "outputs": [],
   "source": [
    "pf.InputEventListener?"
   ]
  },
  {
   "cell_type": "code",
   "execution_count": null,
   "metadata": {
    "collapsed": true
   },
   "outputs": [],
   "source": [
    "def button_3_pressed\n",
    "\n",
    "button_3_listener = pifacedigitalio.InputEventListener()\n",
    "button_3_listener.register(3, pifacedigitalio.IODIR_ON, print_flag)\n",
    "button_3_listener.activate()"
   ]
  }
 ],
 "metadata": {
  "kernelspec": {
   "display_name": "Python 2",
   "language": "python",
   "name": "python2"
  },
  "language_info": {
   "codemirror_mode": {
    "name": "ipython",
    "version": 2
   },
   "file_extension": ".py",
   "mimetype": "text/x-python",
   "name": "python",
   "nbconvert_exporter": "python",
   "pygments_lexer": "ipython2",
   "version": "2.7.3"
  }
 },
 "nbformat": 4,
 "nbformat_minor": 0
}
